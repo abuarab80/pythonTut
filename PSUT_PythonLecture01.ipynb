{
  "nbformat": 4,
  "nbformat_minor": 0,
  "metadata": {
    "colab": {
      "provenance": [],
      "authorship_tag": "ABX9TyPGgeQP6FuKpu5w/ejnaWOm",
      "include_colab_link": true
    },
    "kernelspec": {
      "name": "python3",
      "display_name": "Python 3"
    },
    "language_info": {
      "name": "python"
    }
  },
  "cells": [
    {
      "cell_type": "markdown",
      "metadata": {
        "id": "view-in-github",
        "colab_type": "text"
      },
      "source": [
        "<a href=\"https://colab.research.google.com/github/abuarab80/pythonTut/blob/main/PSUT_PythonLecture01.ipynb\" target=\"_parent\"><img src=\"https://colab.research.google.com/assets/colab-badge.svg\" alt=\"Open In Colab\"/></a>"
      ]
    },
    {
      "cell_type": "code",
      "execution_count": 3,
      "metadata": {
        "colab": {
          "base_uri": "https://localhost:8080/"
        },
        "id": "atJZu3cWC5up",
        "outputId": "da8c12df-9706-4aba-dc2f-1a2fa85fd9ee"
      },
      "outputs": [
        {
          "output_type": "stream",
          "name": "stdout",
          "text": [
            "hello\n"
          ]
        }
      ],
      "source": [
        "print('hello')\n",
        "\n",
        "def abs_val(num: float) -> float:\n",
        "    \"\"\"\n",
        "    Find the absolute value of a number.\n",
        "\n",
        "    >>> abs_val(-5.1)\n",
        "    5.1\n",
        "    >>> abs_val(-5) == abs_val(5)\n",
        "    True\n",
        "    >>> abs_val(0)\n",
        "    0\n",
        "    \"\"\"\n",
        "    return -num if num < 0 else num\n",
        "\n"
      ]
    },
    {
      "cell_type": "code",
      "source": [
        "print('marhaba')"
      ],
      "metadata": {
        "colab": {
          "base_uri": "https://localhost:8080/"
        },
        "id": "_-R7BmwlDox5",
        "outputId": "8c1a4ca5-a53f-409e-b97f-77fa6d469958"
      },
      "execution_count": 2,
      "outputs": [
        {
          "output_type": "stream",
          "name": "stdout",
          "text": [
            "marhaba\n"
          ]
        }
      ]
    }
  ]
}